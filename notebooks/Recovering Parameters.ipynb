{
 "cells": [
  {
   "cell_type": "code",
   "execution_count": 1,
   "id": "be163d6c-a023-4bb2-848f-dfe6de7c50d4",
   "metadata": {},
   "outputs": [],
   "source": [
    "import sys\n",
    "sys.path.append(\"..\")  # Adjusts the path to include the parent directory\n",
    "\n",
    "from rps_simulation.rps_base import RPS_core  # Importing RPS_core class from rps_base.py\n",
    "#from rps_simulation.rps_multirun import RPS_multirun\n",
    "from rps_simulation.learning_curves import exponential_learning, logistic_learning  # Learning Curves\n",
    "from rps_simulation.forgetting_curves import exponential_forgetting, spacing_effect # Forgetting Curves, Spacing Effect\n",
    "from rps_simulation.practice_rate import simple_linear_rate  # Practice-Rate Function\n",
    "from rps_simulation.waiting_times import exponential_waiting_time  # Waiting-Time Distribution\n",
    "#from rps_simulation.dynamical_models import logistic_model, general_model # Dynamical Model\n",
    "#from rps_simulation.sensitivity_analysis import RPS_sensitivity # sensitivity analysis\n",
    "\n",
    "\n",
    "import warnings\n",
    "warnings.filterwarnings('ignore')\n",
    "import numpy as np\n",
    "import pandas as pd\n",
    "#import sympy as sp\n",
    "import matplotlib.pyplot as plt\n",
    "import seaborn as sns\n",
    "\n",
    "# Colour codes for concave and sigmoid curves:\n",
    "concave_colour = '#466be8'\n",
    "sigmoid_colour = '#f77150'\n",
    "\n",
    "plot_dpi = 300 #dpi at which plots will be saved\n",
    "\n",
    "np.random.seed(10)"
   ]
  },
  {
   "cell_type": "markdown",
   "id": "fe22f757-153b-427a-869a-4bdb48ad70dd",
   "metadata": {},
   "source": [
    "# 1. Generating and Saving Sim Data:\n",
    "## 1.1 Exponential Learning Curve:"
   ]
  },
  {
   "cell_type": "code",
   "execution_count": 4,
   "id": "ad28f79f-9ac2-493a-a2a3-fc65f7275fb2",
   "metadata": {},
   "outputs": [],
   "source": [
    "# Generating a simulation from exponential learning curve:\n",
    "# Initializing the RPS_core class:\n",
    "sample_concave = RPS_core(learning_func = exponential_learning(alpha=0.2),\n",
    "                    forgetting_func = exponential_forgetting(forgetting_rate=0.2),\n",
    "                    practice_rate_func = simple_linear_rate(a=0.2, b=2),\n",
    "                    waiting_time_dist = exponential_waiting_time,\n",
    "                    initial_skill=0.3, initial_practice_rate=0.1, max_time=100)\n",
    "\n",
    "\n",
    "# run simulation:\n",
    "sample_concave.run_simulation()\n",
    "\n",
    "# Get data form the simulation run and collect it in a dictionary\n",
    "sample_data = sample_concave.data()\n",
    "#  add none to time_lag list to make it the same length as prac_times and skill_levles:\n",
    "sample_data['time_lags'] = [None] + sample_data['time_lags'] + [None, None] \n",
    "\n",
    "# make dframe to save\n",
    "df_sim_con = pd.DataFrame({'prac_times': sample_data['practice_times'], \n",
    "                      'skill_levels':sample_data['skill_levels'],\n",
    "                      'time_lags':sample_data['time_lags']})\n",
    "df_sim_con.to_csv('../data/df_rps_exp.csv', index=False) # saving dframe:\n",
    "\n"
   ]
  },
  {
   "cell_type": "markdown",
   "id": "d8327ff4-3286-4b4b-8997-7b81aba656f3",
   "metadata": {},
   "source": [
    "## 1.2 Logistic Learning Curve:\n",
    "\n",
    "\n"
   ]
  },
  {
   "cell_type": "code",
   "execution_count": 5,
   "id": "0a218ff0-d29d-4e0f-af93-6b6da9d430c2",
   "metadata": {},
   "outputs": [],
   "source": [
    "# Generating a simulation from logistic learning curve:\n",
    "# Initializing the RPS_core class:\n",
    "sample_log = RPS_core(learning_func = logistic_learning(alpha=0.4),\n",
    "                    forgetting_func = exponential_forgetting(forgetting_rate=0.2),\n",
    "                    practice_rate_func = simple_linear_rate(a=0.2, b=2),\n",
    "                    waiting_time_dist = exponential_waiting_time,\n",
    "                    initial_skill=0.3, initial_practice_rate=0.1, max_time=100)\n",
    "\n",
    "\n",
    "# run simulation:\n",
    "sample_log.run_simulation()\n",
    "\n",
    "# Get data form the simulation run and collect it in a dictionary\n",
    "sample_data = sample_log.data()\n",
    "#  add none to time_lag list to make it the same length as prac_times and skill_levles:\n",
    "sample_data['time_lags'] = [None] + sample_data['time_lags'] + [None, None] \n",
    "\n",
    "# make dframe to save\n",
    "df_sim_log = pd.DataFrame({'prac_times': sample_data['practice_times'], \n",
    "                      'skill_levels':sample_data['skill_levels'],\n",
    "                      'time_lags':sample_data['time_lags']})\n",
    "df_sim_log.to_csv('../data/df_rps_log.csv', index=False) # saving dframe:\n",
    "\n"
   ]
  },
  {
   "cell_type": "code",
   "execution_count": null,
   "id": "08f9745a-d489-44b0-ba8c-ea60004e03fd",
   "metadata": {},
   "outputs": [],
   "source": [
    "\n",
    "\n"
   ]
  },
  {
   "cell_type": "code",
   "execution_count": null,
   "id": "85beb5a8-5517-4f38-9c45-fec1d0cf5cc9",
   "metadata": {},
   "outputs": [],
   "source": []
  }
 ],
 "metadata": {
  "kernelspec": {
   "display_name": "pymc",
   "language": "python",
   "name": "pymc_env"
  },
  "language_info": {
   "codemirror_mode": {
    "name": "ipython",
    "version": 3
   },
   "file_extension": ".py",
   "mimetype": "text/x-python",
   "name": "python",
   "nbconvert_exporter": "python",
   "pygments_lexer": "ipython3",
   "version": "3.11.4"
  }
 },
 "nbformat": 4,
 "nbformat_minor": 5
}
