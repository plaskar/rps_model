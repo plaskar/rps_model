{
 "cells": [
  {
   "cell_type": "code",
   "execution_count": 13,
   "id": "be163d6c-a023-4bb2-848f-dfe6de7c50d4",
   "metadata": {},
   "outputs": [],
   "source": [
    "import sys\n",
    "sys.path.append(\"..\")  # Adjusts the path to include the parent directory\n",
    "\n",
    "from rps_simulation.rps_base import RPS_core  # Importing RPS_core class from rps_base.py\n",
    "#from rps_simulation.rps_multirun import RPS_multirun\n",
    "from rps_simulation.learning_curves import exponential_learning, logistic_learning  # Learning Curves\n",
    "from rps_simulation.forgetting_curves import exponential_forgetting, spacing_effect # Forgetting Curves, Spacing Effect\n",
    "from rps_simulation.practice_rate import simple_linear_rate  # Practice-Rate Function\n",
    "from rps_simulation.waiting_times import exponential_waiting_time  # Waiting-Time Distribution\n",
    "#from rps_simulation.dynamical_models import logistic_model, general_model # Dynamical Model\n",
    "#from rps_simulation.sensitivity_analysis import RPS_sensitivity # sensitivity analysis\n",
    "\n",
    "\n",
    "import warnings\n",
    "warnings.filterwarnings('ignore')\n",
    "import numpy as np\n",
    "import pandas as pd\n",
    "#import sympy as sp\n",
    "import matplotlib.pyplot as plt\n",
    "import seaborn as sns\n",
    "\n",
    "# Colour codes for concave and sigmoid curves:\n",
    "concave_colour = '#466be8'\n",
    "sigmoid_colour = '#f77150'\n",
    "\n",
    "plot_dpi = 300 #dpi at which plots will be saved\n",
    "\n",
    "np.random.seed(10)"
   ]
  },
  {
   "cell_type": "markdown",
   "id": "fe22f757-153b-427a-869a-4bdb48ad70dd",
   "metadata": {},
   "source": [
    "# Recovering Parameters:"
   ]
  },
  {
   "cell_type": "code",
   "execution_count": 10,
   "id": "ad28f79f-9ac2-493a-a2a3-fc65f7275fb2",
   "metadata": {},
   "outputs": [],
   "source": [
    "# Generating a simulation from exponential learning curve:\n",
    "# Initializing the RPS_core class:\n",
    "sample_concave = RPS_core(learning_func = exponential_learning(alpha=0.2),\n",
    "                    forgetting_func = exponential_forgetting(forgetting_rate=0.2),\n",
    "                    practice_rate_func = simple_linear_rate(a=0.2, b=5),\n",
    "                    waiting_time_dist = exponential_waiting_time,\n",
    "                    initial_skill=0.1, initial_practice_rate=0.1, max_time=20)\n",
    "\n",
    "\n",
    "# run simulation:\n",
    "sample_concave.run_simulation()\n",
    "\n",
    "\n",
    "# simple learning trajectory with markers for practice events:\n",
    "# sample_concave.plot_combined_trajectory(save_location='../plots/sample_simple_traj.jpg', save_dpi=plot_dpi)\n",
    "\n",
    "# Can also plot smooth trajectory:\n",
    "# sample_concave.plot_learning_trajectory(least_count=0.25, min_points=5, save_location='../plots/sample_smooth_traj.jpg')\n",
    "\n",
    "# Can also generate timestamp plots of when practice_events occured:\n",
    "# sample_concave.practice_times_plot()\n",
    "\n",
    "\n",
    "# Get data form the simulation run and collect it in a dictionary\n",
    "sample_data = sample_concave.data()\n"
   ]
  },
  {
   "cell_type": "code",
   "execution_count": 15,
   "id": "0a218ff0-d29d-4e0f-af93-6b6da9d430c2",
   "metadata": {},
   "outputs": [
    {
     "data": {
      "text/plain": [
       "dict_keys(['final_skill', 'final_practice_rate', 'total_practice_events', 'time_lags', 'forgetting_rates', 'practice_times', 'skill_levels', 'practice_rates'])"
      ]
     },
     "execution_count": 15,
     "metadata": {},
     "output_type": "execute_result"
    }
   ],
   "source": [
    "\n",
    "sample_data.keys()\n",
    "\n",
    "#plt.plot(sample_data['forgetting_rates'])"
   ]
  },
  {
   "cell_type": "code",
   "execution_count": null,
   "id": "2e82d894-a812-49d2-b7df-da3ef653dbb3",
   "metadata": {},
   "outputs": [],
   "source": []
  }
 ],
 "metadata": {
  "kernelspec": {
   "display_name": "pymc",
   "language": "python",
   "name": "pymc_env"
  },
  "language_info": {
   "codemirror_mode": {
    "name": "ipython",
    "version": 3
   },
   "file_extension": ".py",
   "mimetype": "text/x-python",
   "name": "python",
   "nbconvert_exporter": "python",
   "pygments_lexer": "ipython3",
   "version": "3.11.4"
  }
 },
 "nbformat": 4,
 "nbformat_minor": 5
}
